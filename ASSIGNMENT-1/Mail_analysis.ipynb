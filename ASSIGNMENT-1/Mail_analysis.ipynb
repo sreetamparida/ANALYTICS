{
 "cells": [
  {
   "cell_type": "code",
   "execution_count": 1,
   "metadata": {},
   "outputs": [],
   "source": [
    "import pandas as pd"
   ]
  },
  {
   "cell_type": "code",
   "execution_count": 35,
   "metadata": {},
   "outputs": [],
   "source": [
    "import numpy as np"
   ]
  },
  {
   "cell_type": "code",
   "execution_count": 2,
   "metadata": {},
   "outputs": [],
   "source": [
    "df = pd.read_csv('Automatic email content store.csv',sep='$')"
   ]
  },
  {
   "cell_type": "code",
   "execution_count": 3,
   "metadata": {},
   "outputs": [
    {
     "data": {
      "text/html": [
       "<div>\n",
       "<style scoped>\n",
       "    .dataframe tbody tr th:only-of-type {\n",
       "        vertical-align: middle;\n",
       "    }\n",
       "\n",
       "    .dataframe tbody tr th {\n",
       "        vertical-align: top;\n",
       "    }\n",
       "\n",
       "    .dataframe thead th {\n",
       "        text-align: right;\n",
       "    }\n",
       "</style>\n",
       "<table border=\"1\" class=\"dataframe\">\n",
       "  <thead>\n",
       "    <tr style=\"text-align: right;\">\n",
       "      <th></th>\n",
       "      <th>Date</th>\n",
       "      <th>to</th>\n",
       "      <th>raw</th>\n",
       "    </tr>\n",
       "  </thead>\n",
       "  <tbody>\n",
       "    <tr>\n",
       "      <th>0</th>\n",
       "      <td>30/09/17</td>\n",
       "      <td>shubhi.prakash03@gmail.com</td>\n",
       "      <td>will be doing it by tomorrow</td>\n",
       "    </tr>\n",
       "    <tr>\n",
       "      <th>1</th>\n",
       "      <td>30/09/17</td>\n",
       "      <td>exampreparationonline@gmail.com</td>\n",
       "      <td>will be doing it by tomorrow</td>\n",
       "    </tr>\n",
       "    <tr>\n",
       "      <th>2</th>\n",
       "      <td>30/09/17</td>\n",
       "      <td>exampreparationonline@gmail.com</td>\n",
       "      <td>will be doing it by tomorrow</td>\n",
       "    </tr>\n",
       "    <tr>\n",
       "      <th>3</th>\n",
       "      <td>30/09/17</td>\n",
       "      <td>shubhi.prakash03@gmail.com</td>\n",
       "      <td>will be doing it by tomorrow</td>\n",
       "    </tr>\n",
       "    <tr>\n",
       "      <th>4</th>\n",
       "      <td>30/09/17</td>\n",
       "      <td>shubhi.prakash03@gmail.com</td>\n",
       "      <td>will be doing it by tomorrow</td>\n",
       "    </tr>\n",
       "  </tbody>\n",
       "</table>\n",
       "</div>"
      ],
      "text/plain": [
       "       Date                              to                            raw\n",
       "0  30/09/17       shubhi.prakash03@gmail.com  will be doing it by tomorrow\n",
       "1  30/09/17  exampreparationonline@gmail.com  will be doing it by tomorrow\n",
       "2  30/09/17  exampreparationonline@gmail.com  will be doing it by tomorrow\n",
       "3  30/09/17       shubhi.prakash03@gmail.com  will be doing it by tomorrow\n",
       "4  30/09/17       shubhi.prakash03@gmail.com  will be doing it by tomorrow"
      ]
     },
     "execution_count": 3,
     "metadata": {},
     "output_type": "execute_result"
    }
   ],
   "source": [
    "df.head()"
   ]
  },
  {
   "cell_type": "markdown",
   "metadata": {},
   "source": [
    "## Get unique Mails"
   ]
  },
  {
   "cell_type": "code",
   "execution_count": 4,
   "metadata": {},
   "outputs": [],
   "source": [
    "unique_mail = list(df['to '].unique())"
   ]
  },
  {
   "cell_type": "markdown",
   "metadata": {},
   "source": [
    "## Get rows with proper date format"
   ]
  },
  {
   "cell_type": "code",
   "execution_count": 20,
   "metadata": {},
   "outputs": [],
   "source": [
    "def get_rows(x):\n",
    "    c = len(x.split('/'))\n",
    "    \n",
    "    if c!= 3:\n",
    "        ind = df[df['Date']==x].index\n",
    "        df.drop(ind,inplace=True)\n",
    "        return 'deleted'\n",
    "    else:\n",
    "        return 'in_format'"
   ]
  },
  {
   "cell_type": "code",
   "execution_count": 21,
   "metadata": {
    "scrolled": true
   },
   "outputs": [
    {
     "data": {
      "text/plain": [
       "0     in_format\n",
       "1     in_format\n",
       "2     in_format\n",
       "3     in_format\n",
       "4     in_format\n",
       "5     in_format\n",
       "6     in_format\n",
       "7     in_format\n",
       "8     in_format\n",
       "9     in_format\n",
       "10    in_format\n",
       "11    in_format\n",
       "12    in_format\n",
       "13    in_format\n",
       "14    in_format\n",
       "15    in_format\n",
       "16    in_format\n",
       "17    in_format\n",
       "18    in_format\n",
       "19    in_format\n",
       "20    in_format\n",
       "21    in_format\n",
       "23    in_format\n",
       "24    in_format\n",
       "25    in_format\n",
       "26    in_format\n",
       "27    in_format\n",
       "28    in_format\n",
       "29    in_format\n",
       "30    in_format\n",
       "31    in_format\n",
       "32    in_format\n",
       "33    in_format\n",
       "34    in_format\n",
       "35    in_format\n",
       "36    in_format\n",
       "37    in_format\n",
       "38    in_format\n",
       "39    in_format\n",
       "40    in_format\n",
       "41    in_format\n",
       "42    in_format\n",
       "43    in_format\n",
       "44    in_format\n",
       "45    in_format\n",
       "Name: Date, dtype: object"
      ]
     },
     "execution_count": 21,
     "metadata": {},
     "output_type": "execute_result"
    }
   ],
   "source": [
    "df['Date'].apply(get_rows)"
   ]
  },
  {
   "cell_type": "code",
   "execution_count": 25,
   "metadata": {},
   "outputs": [],
   "source": [
    "df.reset_index(inplace=True)"
   ]
  },
  {
   "cell_type": "markdown",
   "metadata": {},
   "source": [
    "### 22nd index has been deleted as it did not have date in required format"
   ]
  },
  {
   "cell_type": "code",
   "execution_count": 28,
   "metadata": {},
   "outputs": [],
   "source": [
    "last_index = len(df)-1"
   ]
  },
  {
   "cell_type": "code",
   "execution_count": 62,
   "metadata": {},
   "outputs": [],
   "source": [
    "last_date = df.loc[last_index]['Date']"
   ]
  },
  {
   "cell_type": "markdown",
   "metadata": {},
   "source": [
    "# Function to get  number of days"
   ]
  },
  {
   "cell_type": "code",
   "execution_count": 67,
   "metadata": {},
   "outputs": [],
   "source": [
    "def get_days(x):\n",
    "    last_date = df.loc[last_index]['Date']\n",
    "    last_date = pd.to_datetime(last_date,dayfirst=True)\n",
    "    to_date = pd.to_datetime(x,dayfirst=True)\n",
    "    no_days = np.absolute((last_date-to_date).days)\n",
    "    return no_days"
   ]
  },
  {
   "cell_type": "code",
   "execution_count": 68,
   "metadata": {},
   "outputs": [
    {
     "data": {
      "text/plain": [
       "13"
      ]
     },
     "execution_count": 68,
     "metadata": {},
     "output_type": "execute_result"
    }
   ],
   "source": [
    "get_days('17/10/17')"
   ]
  },
  {
   "cell_type": "markdown",
   "metadata": {},
   "source": [
    "# Checking if the words present in array are in content"
   ]
  },
  {
   "cell_type": "code",
   "execution_count": 45,
   "metadata": {},
   "outputs": [],
   "source": [
    "lang_array = ['Python','C','C++','OpenCV','Jave']\n",
    "dummy_array = ['can','you','doing']"
   ]
  },
  {
   "cell_type": "code",
   "execution_count": 56,
   "metadata": {},
   "outputs": [],
   "source": [
    "def get_word(x):\n",
    "    ls = [word.lower() for word in x.split()]\n",
    "    ls = set(ls)\n",
    "    \n",
    "    #here you can replace for arrray having OpenCV, Python \n",
    "    # As no matching words were there, a dummy array has been created\n",
    "    arr = set(dummy_array)\n",
    "    result = ','.join(list(arr.intersection(ls)))\n",
    "    if len(result)==0:\n",
    "        return 'Nothing Matched'\n",
    "    else:\n",
    "        return result"
   ]
  },
  {
   "cell_type": "code",
   "execution_count": 58,
   "metadata": {},
   "outputs": [],
   "source": [
    "df['array_cont'] = df['raw'].apply(get_word)"
   ]
  },
  {
   "cell_type": "code",
   "execution_count": 60,
   "metadata": {},
   "outputs": [
    {
     "data": {
      "text/html": [
       "<div>\n",
       "<style scoped>\n",
       "    .dataframe tbody tr th:only-of-type {\n",
       "        vertical-align: middle;\n",
       "    }\n",
       "\n",
       "    .dataframe tbody tr th {\n",
       "        vertical-align: top;\n",
       "    }\n",
       "\n",
       "    .dataframe thead th {\n",
       "        text-align: right;\n",
       "    }\n",
       "</style>\n",
       "<table border=\"1\" class=\"dataframe\">\n",
       "  <thead>\n",
       "    <tr style=\"text-align: right;\">\n",
       "      <th></th>\n",
       "      <th>index</th>\n",
       "      <th>Date</th>\n",
       "      <th>to</th>\n",
       "      <th>raw</th>\n",
       "      <th>array_cont</th>\n",
       "    </tr>\n",
       "  </thead>\n",
       "  <tbody>\n",
       "    <tr>\n",
       "      <th>0</th>\n",
       "      <td>0</td>\n",
       "      <td>30/09/17</td>\n",
       "      <td>shubhi.prakash03@gmail.com</td>\n",
       "      <td>will be doing it by tomorrow</td>\n",
       "      <td>doing</td>\n",
       "    </tr>\n",
       "    <tr>\n",
       "      <th>1</th>\n",
       "      <td>1</td>\n",
       "      <td>30/09/17</td>\n",
       "      <td>exampreparationonline@gmail.com</td>\n",
       "      <td>will be doing it by tomorrow</td>\n",
       "      <td>doing</td>\n",
       "    </tr>\n",
       "    <tr>\n",
       "      <th>2</th>\n",
       "      <td>2</td>\n",
       "      <td>30/09/17</td>\n",
       "      <td>exampreparationonline@gmail.com</td>\n",
       "      <td>will be doing it by tomorrow</td>\n",
       "      <td>doing</td>\n",
       "    </tr>\n",
       "    <tr>\n",
       "      <th>3</th>\n",
       "      <td>3</td>\n",
       "      <td>30/09/17</td>\n",
       "      <td>shubhi.prakash03@gmail.com</td>\n",
       "      <td>will be doing it by tomorrow</td>\n",
       "      <td>doing</td>\n",
       "    </tr>\n",
       "    <tr>\n",
       "      <th>4</th>\n",
       "      <td>4</td>\n",
       "      <td>30/09/17</td>\n",
       "      <td>shubhi.prakash03@gmail.com</td>\n",
       "      <td>will be doing it by tomorrow</td>\n",
       "      <td>doing</td>\n",
       "    </tr>\n",
       "    <tr>\n",
       "      <th>5</th>\n",
       "      <td>5</td>\n",
       "      <td>30/09/17</td>\n",
       "      <td>exampreparationonline@gmail.com</td>\n",
       "      <td>try to submit it with details</td>\n",
       "      <td>Nothing Matched</td>\n",
       "    </tr>\n",
       "    <tr>\n",
       "      <th>6</th>\n",
       "      <td>6</td>\n",
       "      <td>30/09/17</td>\n",
       "      <td>shubhi.prakash03@gmail.com</td>\n",
       "      <td>try to submit it with details</td>\n",
       "      <td>Nothing Matched</td>\n",
       "    </tr>\n",
       "    <tr>\n",
       "      <th>7</th>\n",
       "      <td>7</td>\n",
       "      <td>30/09/17</td>\n",
       "      <td>nidhisaini05@gmail.com</td>\n",
       "      <td>try to submit it with details</td>\n",
       "      <td>Nothing Matched</td>\n",
       "    </tr>\n",
       "    <tr>\n",
       "      <th>8</th>\n",
       "      <td>8</td>\n",
       "      <td>30/09/17</td>\n",
       "      <td>chowdhuryshaif@rediffmail.com</td>\n",
       "      <td>try to submit it with details</td>\n",
       "      <td>Nothing Matched</td>\n",
       "    </tr>\n",
       "    <tr>\n",
       "      <th>9</th>\n",
       "      <td>9</td>\n",
       "      <td>30/09/17</td>\n",
       "      <td>chowdhuryshaif@rediffmail.com</td>\n",
       "      <td>try to submit it with details</td>\n",
       "      <td>Nothing Matched</td>\n",
       "    </tr>\n",
       "  </tbody>\n",
       "</table>\n",
       "</div>"
      ],
      "text/plain": [
       "   index      Date                              to   \\\n",
       "0      0  30/09/17       shubhi.prakash03@gmail.com   \n",
       "1      1  30/09/17  exampreparationonline@gmail.com   \n",
       "2      2  30/09/17  exampreparationonline@gmail.com   \n",
       "3      3  30/09/17       shubhi.prakash03@gmail.com   \n",
       "4      4  30/09/17       shubhi.prakash03@gmail.com   \n",
       "5      5  30/09/17  exampreparationonline@gmail.com   \n",
       "6      6  30/09/17       shubhi.prakash03@gmail.com   \n",
       "7      7  30/09/17           nidhisaini05@gmail.com   \n",
       "8      8  30/09/17    chowdhuryshaif@rediffmail.com   \n",
       "9      9  30/09/17    chowdhuryshaif@rediffmail.com   \n",
       "\n",
       "                             raw       array_cont  \n",
       "0   will be doing it by tomorrow            doing  \n",
       "1   will be doing it by tomorrow            doing  \n",
       "2   will be doing it by tomorrow            doing  \n",
       "3   will be doing it by tomorrow            doing  \n",
       "4   will be doing it by tomorrow            doing  \n",
       "5  try to submit it with details  Nothing Matched  \n",
       "6  try to submit it with details  Nothing Matched  \n",
       "7  try to submit it with details  Nothing Matched  \n",
       "8  try to submit it with details  Nothing Matched  \n",
       "9  try to submit it with details  Nothing Matched  "
      ]
     },
     "execution_count": 60,
     "metadata": {},
     "output_type": "execute_result"
    }
   ],
   "source": [
    "df.head(10)"
   ]
  },
  {
   "cell_type": "code",
   "execution_count": 69,
   "metadata": {},
   "outputs": [],
   "source": [
    "df.to_excel('Mail_analysis.xlsx')"
   ]
  },
  {
   "cell_type": "code",
   "execution_count": null,
   "metadata": {},
   "outputs": [],
   "source": []
  }
 ],
 "metadata": {
  "kernelspec": {
   "display_name": "Python 3",
   "language": "python",
   "name": "python3"
  },
  "language_info": {
   "codemirror_mode": {
    "name": "ipython",
    "version": 3
   },
   "file_extension": ".py",
   "mimetype": "text/x-python",
   "name": "python",
   "nbconvert_exporter": "python",
   "pygments_lexer": "ipython3",
   "version": "3.6.5"
  }
 },
 "nbformat": 4,
 "nbformat_minor": 2
}
